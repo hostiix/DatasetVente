{
 "cells": [
  {
   "cell_type": "code",
   "execution_count": 1,
   "metadata": {
    "pycharm": {
     "is_executing": false
    }
   },
   "outputs": [],
   "source": [
    "%matplotlib inline\n",
    "import numpy as np\n",
    "import matplotlib\n",
    "import matplotlib.pyplot as plt\n",
    "import pandas as pd\n",
    "import seaborn as sns\n",
    "\n",
    "from sklearn.preprocessing import LabelBinarizer, StandardScaler"
   ]
  },
  {
   "cell_type": "markdown",
   "metadata": {},
   "source": [
    "# Analyse des données"
   ]
  },
  {
   "cell_type": "code",
   "execution_count": 4,
   "metadata": {
    "pycharm": {
     "is_executing": false
    }
   },
   "outputs": [
    {
     "data": {
      "text/plain": [
       "['id_vente;date_vente;id_client;categorie_client;id_magasin;prix_vente_unitaire;quantité;id_produit;categorie_produit\\n',\n",
       " '1;02/01/2015;83734;Culturel;108;46.98;2;81910;Culturel\\n',\n",
       " '1;02/01/2015;83734;Culturel;108;45.6;6;61616;Mode\\n',\n",
       " '1;02/01/2015;83734;Culturel;108;9.2;3;86616;Culturel\\n',\n",
       " '1;02/01/2015;83734;Culturel;108;43.42;4;84213;Culturel\\n']"
      ]
     },
     "execution_count": 4,
     "metadata": {},
     "output_type": "execute_result"
    }
   ],
   "source": [
    "open('FichierMock_réduit.csv','r').readlines()[:5]"
   ]
  },
  {
   "cell_type": "code",
   "execution_count": 57,
   "metadata": {
    "pycharm": {
     "is_executing": false,
     "name": "#%%\n"
    }
   },
   "outputs": [],
   "source": [
    "dtypes = {\"id_vente\": int, \"date_vente\": object, \"id_client\": int, \"categorie_client\": object, \"id_magasin\": int, \"prix_vente_unitaire\": float, \"quantité\": int, \"id_produit\": int, \"categorie_produit\": object}\n",
    "parse_dates = [\"date_vente\"]\n",
    "ventes2015sousensemble = pd.read_csv('FichierMock_réduit.csv', sep=';', header=None, skiprows=1, dtype=dtypes, names = ['Vente', 'Date', 'Client', 'Profil', 'Magasin', 'Prix', 'Quantité', 'Produit', 'Catégorie_de_produit'], date_parser = parse_dates, encoding=\"ISO-8859-1\")"
   ]
  },
  {
   "cell_type": "code",
   "execution_count": 58,
   "metadata": {
    "pycharm": {
     "is_executing": false,
     "name": "#%%\n"
    }
   },
   "outputs": [],
   "source": [
    "features = pd.DataFrame(ventes2015sousensemble)"
   ]
  },
  {
   "cell_type": "code",
   "execution_count": 59,
   "metadata": {
    "pycharm": {
     "is_executing": false,
     "name": "#%%\n"
    }
   },
   "outputs": [
    {
     "data": {
      "text/html": [
       "<div>\n",
       "<style scoped>\n",
       "    .dataframe tbody tr th:only-of-type {\n",
       "        vertical-align: middle;\n",
       "    }\n",
       "\n",
       "    .dataframe tbody tr th {\n",
       "        vertical-align: top;\n",
       "    }\n",
       "\n",
       "    .dataframe thead th {\n",
       "        text-align: right;\n",
       "    }\n",
       "</style>\n",
       "<table border=\"1\" class=\"dataframe\">\n",
       "  <thead>\n",
       "    <tr style=\"text-align: right;\">\n",
       "      <th></th>\n",
       "      <th>Vente</th>\n",
       "      <th>Date</th>\n",
       "      <th>Client</th>\n",
       "      <th>Profil</th>\n",
       "      <th>Magasin</th>\n",
       "      <th>Prix</th>\n",
       "      <th>Quantité</th>\n",
       "      <th>Produit</th>\n",
       "      <th>Catégorie_de_produit</th>\n",
       "    </tr>\n",
       "  </thead>\n",
       "  <tbody>\n",
       "    <tr>\n",
       "      <th>0</th>\n",
       "      <td>1</td>\n",
       "      <td>02/01/2015</td>\n",
       "      <td>83734</td>\n",
       "      <td>Culturel</td>\n",
       "      <td>108</td>\n",
       "      <td>46.98</td>\n",
       "      <td>2</td>\n",
       "      <td>81910</td>\n",
       "      <td>Culturel</td>\n",
       "    </tr>\n",
       "    <tr>\n",
       "      <th>1</th>\n",
       "      <td>1</td>\n",
       "      <td>02/01/2015</td>\n",
       "      <td>83734</td>\n",
       "      <td>Culturel</td>\n",
       "      <td>108</td>\n",
       "      <td>45.60</td>\n",
       "      <td>6</td>\n",
       "      <td>61616</td>\n",
       "      <td>Mode</td>\n",
       "    </tr>\n",
       "    <tr>\n",
       "      <th>2</th>\n",
       "      <td>1</td>\n",
       "      <td>02/01/2015</td>\n",
       "      <td>83734</td>\n",
       "      <td>Culturel</td>\n",
       "      <td>108</td>\n",
       "      <td>9.20</td>\n",
       "      <td>3</td>\n",
       "      <td>86616</td>\n",
       "      <td>Culturel</td>\n",
       "    </tr>\n",
       "    <tr>\n",
       "      <th>3</th>\n",
       "      <td>1</td>\n",
       "      <td>02/01/2015</td>\n",
       "      <td>83734</td>\n",
       "      <td>Culturel</td>\n",
       "      <td>108</td>\n",
       "      <td>43.42</td>\n",
       "      <td>4</td>\n",
       "      <td>84213</td>\n",
       "      <td>Culturel</td>\n",
       "    </tr>\n",
       "    <tr>\n",
       "      <th>4</th>\n",
       "      <td>1</td>\n",
       "      <td>02/01/2015</td>\n",
       "      <td>83734</td>\n",
       "      <td>Culturel</td>\n",
       "      <td>108</td>\n",
       "      <td>21.26</td>\n",
       "      <td>2</td>\n",
       "      <td>81314</td>\n",
       "      <td>Culturel</td>\n",
       "    </tr>\n",
       "  </tbody>\n",
       "</table>\n",
       "</div>"
      ],
      "text/plain": [
       "   Vente        Date  Client    Profil  Magasin   Prix  Quantité  Produit  \\\n",
       "0      1  02/01/2015   83734  Culturel      108  46.98         2    81910   \n",
       "1      1  02/01/2015   83734  Culturel      108  45.60         6    61616   \n",
       "2      1  02/01/2015   83734  Culturel      108   9.20         3    86616   \n",
       "3      1  02/01/2015   83734  Culturel      108  43.42         4    84213   \n",
       "4      1  02/01/2015   83734  Culturel      108  21.26         2    81314   \n",
       "\n",
       "  Catégorie_de_produit  \n",
       "0             Culturel  \n",
       "1                 Mode  \n",
       "2             Culturel  \n",
       "3             Culturel  \n",
       "4             Culturel  "
      ]
     },
     "execution_count": 59,
     "metadata": {},
     "output_type": "execute_result"
    }
   ],
   "source": [
    "features.head()"
   ]
  },
  {
   "cell_type": "code",
   "execution_count": 60,
   "metadata": {
    "pycharm": {
     "is_executing": false,
     "name": "#%%\n"
    }
   },
   "outputs": [
    {
     "data": {
      "text/html": [
       "<div>\n",
       "<style scoped>\n",
       "    .dataframe tbody tr th:only-of-type {\n",
       "        vertical-align: middle;\n",
       "    }\n",
       "\n",
       "    .dataframe tbody tr th {\n",
       "        vertical-align: top;\n",
       "    }\n",
       "\n",
       "    .dataframe thead th {\n",
       "        text-align: right;\n",
       "    }\n",
       "</style>\n",
       "<table border=\"1\" class=\"dataframe\">\n",
       "  <thead>\n",
       "    <tr style=\"text-align: right;\">\n",
       "      <th></th>\n",
       "      <th>Prix</th>\n",
       "      <th>Quantité</th>\n",
       "    </tr>\n",
       "  </thead>\n",
       "  <tbody>\n",
       "    <tr>\n",
       "      <th>count</th>\n",
       "      <td>1006.000000</td>\n",
       "      <td>1006.000000</td>\n",
       "    </tr>\n",
       "    <tr>\n",
       "      <th>mean</th>\n",
       "      <td>25.001859</td>\n",
       "      <td>5.636183</td>\n",
       "    </tr>\n",
       "    <tr>\n",
       "      <th>std</th>\n",
       "      <td>14.193342</td>\n",
       "      <td>2.841561</td>\n",
       "    </tr>\n",
       "    <tr>\n",
       "      <th>min</th>\n",
       "      <td>0.710000</td>\n",
       "      <td>1.000000</td>\n",
       "    </tr>\n",
       "    <tr>\n",
       "      <th>25%</th>\n",
       "      <td>12.762500</td>\n",
       "      <td>3.000000</td>\n",
       "    </tr>\n",
       "    <tr>\n",
       "      <th>50%</th>\n",
       "      <td>25.710000</td>\n",
       "      <td>6.000000</td>\n",
       "    </tr>\n",
       "    <tr>\n",
       "      <th>75%</th>\n",
       "      <td>37.137500</td>\n",
       "      <td>8.000000</td>\n",
       "    </tr>\n",
       "    <tr>\n",
       "      <th>max</th>\n",
       "      <td>49.960000</td>\n",
       "      <td>10.000000</td>\n",
       "    </tr>\n",
       "  </tbody>\n",
       "</table>\n",
       "</div>"
      ],
      "text/plain": [
       "              Prix     Quantité\n",
       "count  1006.000000  1006.000000\n",
       "mean     25.001859     5.636183\n",
       "std      14.193342     2.841561\n",
       "min       0.710000     1.000000\n",
       "25%      12.762500     3.000000\n",
       "50%      25.710000     6.000000\n",
       "75%      37.137500     8.000000\n",
       "max      49.960000    10.000000"
      ]
     },
     "execution_count": 60,
     "metadata": {},
     "output_type": "execute_result"
    }
   ],
   "source": [
    "#Statistiques descriptives sur les données numériques prix et quantité :\n",
    "features[['Prix', 'Quantité']].describe()"
   ]
  },
  {
   "cell_type": "code",
   "execution_count": 61,
   "metadata": {
    "pycharm": {
     "name": "#%%\n"
    }
   },
   "outputs": [
    {
     "data": {
      "text/html": [
       "<div>\n",
       "<style scoped>\n",
       "    .dataframe tbody tr th:only-of-type {\n",
       "        vertical-align: middle;\n",
       "    }\n",
       "\n",
       "    .dataframe tbody tr th {\n",
       "        vertical-align: top;\n",
       "    }\n",
       "\n",
       "    .dataframe thead th {\n",
       "        text-align: right;\n",
       "    }\n",
       "</style>\n",
       "<table border=\"1\" class=\"dataframe\">\n",
       "  <thead>\n",
       "    <tr style=\"text-align: right;\">\n",
       "      <th></th>\n",
       "      <th>Profil</th>\n",
       "      <th>Catégorie_de_produit</th>\n",
       "    </tr>\n",
       "  </thead>\n",
       "  <tbody>\n",
       "    <tr>\n",
       "      <th>count</th>\n",
       "      <td>1006</td>\n",
       "      <td>1006</td>\n",
       "    </tr>\n",
       "    <tr>\n",
       "      <th>unique</th>\n",
       "      <td>10</td>\n",
       "      <td>11</td>\n",
       "    </tr>\n",
       "    <tr>\n",
       "      <th>top</th>\n",
       "      <td>High-tech</td>\n",
       "      <td>High-tech</td>\n",
       "    </tr>\n",
       "    <tr>\n",
       "      <th>freq</th>\n",
       "      <td>184</td>\n",
       "      <td>176</td>\n",
       "    </tr>\n",
       "  </tbody>\n",
       "</table>\n",
       "</div>"
      ],
      "text/plain": [
       "           Profil Catégorie_de_produit\n",
       "count        1006                 1006\n",
       "unique         10                   11\n",
       "top     High-tech            High-tech\n",
       "freq          184                  176"
      ]
     },
     "execution_count": 61,
     "metadata": {},
     "output_type": "execute_result"
    }
   ],
   "source": [
    "#Statistiques descriptives sur les données textuelles Profil et Catégorie de produit  :\n",
    "features[['Profil', 'Catégorie_de_produit']].describe()"
   ]
  },
  {
   "cell_type": "code",
   "execution_count": 62,
   "metadata": {},
   "outputs": [
    {
     "data": {
      "text/plain": [
       "count           1006\n",
       "unique             1\n",
       "top       02/01/2015\n",
       "freq            1006\n",
       "Name: Date, dtype: object"
      ]
     },
     "execution_count": 62,
     "metadata": {},
     "output_type": "execute_result"
    }
   ],
   "source": [
    "#Statistiques descriptives sur la date :\n",
    "features['Date'].describe()"
   ]
  },
  {
   "cell_type": "code",
   "execution_count": 69,
   "metadata": {},
   "outputs": [
    {
     "data": {
      "text/plain": [
       "<matplotlib.axes._subplots.AxesSubplot at 0x2d9b7337cd0>"
      ]
     },
     "execution_count": 69,
     "metadata": {},
     "output_type": "execute_result"
    },
    {
     "data": {
      "image/png": "[encoded data removed]",
      "text/plain": [
       "<Figure size 432x288 with 1 Axes>"
      ]
     },
     "metadata": {
      "needs_background": "light"
     },
     "output_type": "display_data"
    }
   ],
   "source": [
    "sns.boxplot(x = features['Vente'])\n",
    "#Pas de données aberrantes !"
   ]
  },
  {
   "cell_type": "code",
   "execution_count": 71,
   "metadata": {},
   "outputs": [
    {
     "data": {
      "text/plain": [
       "<matplotlib.axes._subplots.AxesSubplot at 0x2d9b84b8bb0>"
      ]
     },
     "execution_count": 71,
     "metadata": {},
     "output_type": "execute_result"
    },
    {
     "data": {
      "image/png": "[encoded data removed]",
      "text/plain": [
       "<Figure size 432x288 with 1 Axes>"
      ]
     },
     "metadata": {
      "needs_background": "light"
     },
     "output_type": "display_data"
    }
   ],
   "source": [
    "sns.boxplot(x = features['Quantité'])\n",
    "#Idem"
   ]
  },
  {
   "cell_type": "code",
   "execution_count": 67,
   "metadata": {
    "pycharm": {
     "name": "#%%\n"
    }
   },
   "outputs": [
    {
     "data": {
      "text/plain": [
       "<matplotlib.axes._subplots.AxesSubplot at 0x2d9b712f280>"
      ]
     },
     "execution_count": 67,
     "metadata": {},
     "output_type": "execute_result"
    },
    {
     "data": {
      "image/png": "[encoded data removed]",
      "text/plain": [
       "<Figure size 432x288 with 1 Axes>"
      ]
     },
     "metadata": {
      "needs_background": "light"
     },
     "output_type": "display_data"
    }
   ],
   "source": [
    "#Quelle catégorie de produit a des prix plus conséquents ?\n",
    "sns.boxplot(x = 'Prix', y = 'Catégorie_de_produit', data = features)"
   ]
  },
  {
   "cell_type": "code",
   "execution_count": 68,
   "metadata": {},
   "outputs": [
    {
     "data": {
      "text/plain": [
       "<matplotlib.axes._subplots.AxesSubplot at 0x2d9b7464e50>"
      ]
     },
     "execution_count": 68,
     "metadata": {},
     "output_type": "execute_result"
    },
    {
     "data": {
      "image/png": "[encoded data removed]",
      "text/plain": [
       "<Figure size 432x288 with 1 Axes>"
      ]
     },
     "metadata": {
      "needs_background": "light"
     },
     "output_type": "display_data"
    }
   ],
   "source": [
    "#Quelle catégorie de produit est achetée en plus grande quantité ?\n",
    "sns.boxplot(x = 'Quantité', y = 'Catégorie_de_produit', data = features)"
   ]
  },
  {
   "cell_type": "code",
   "execution_count": 74,
   "metadata": {},
   "outputs": [
    {
     "data": {
      "text/plain": [
       "<matplotlib.axes._subplots.AxesSubplot at 0x2d9b857bc40>"
      ]
     },
     "execution_count": 74,
     "metadata": {},
     "output_type": "execute_result"
    },
    {
     "data": {
      "image/png": "[encoded data removed]",
      "text/plain": [
       "<Figure size 432x288 with 1 Axes>"
      ]
     },
     "metadata": {
      "needs_background": "light"
     },
     "output_type": "display_data"
    }
   ],
   "source": [
    "#Quels profils client achetent à des prix plus conséquents ?\n",
    "sns.boxplot(x = 'Prix', y = 'Profil', data = features)"
   ]
  },
  {
   "cell_type": "code",
   "execution_count": 75,
   "metadata": {},
   "outputs": [
    {
     "data": {
      "text/plain": [
       "<matplotlib.axes._subplots.AxesSubplot at 0x2d9b8673760>"
      ]
     },
     "execution_count": 75,
     "metadata": {},
     "output_type": "execute_result"
    },
    {
     "data": {
      "image/png": "[encoded data removed]",
      "text/plain": [
       "<Figure size 432x288 with 1 Axes>"
      ]
     },
     "metadata": {
      "needs_background": "light"
     },
     "output_type": "display_data"
    }
   ],
   "source": [
    "#Quels profils client achetent les plus grandes quantités ?\n",
    "sns.boxplot(x = 'Quantité', y = 'Profil', data = features)"
   ]
  },
  {
   "cell_type": "code",
   "execution_count": 84,
   "metadata": {},
   "outputs": [
    {
     "data": {
      "text/plain": [
       "<matplotlib.axes._subplots.AxesSubplot at 0x2d9b97486a0>"
      ]
     },
     "execution_count": 84,
     "metadata": {},
     "output_type": "execute_result"
    },
    {
     "data": {
      "image/png": "[encoded data removed]",
      "text/plain": [
       "<Figure size 432x288 with 1 Axes>"
      ]
     },
     "metadata": {
      "needs_background": "light"
     },
     "output_type": "display_data"
    }
   ],
   "source": [
    "#Nombre de ventes par profil client :\n",
    "\n",
    "sns.countplot(y = 'Profil', data = features)"
   ]
  },
  {
   "cell_type": "code",
   "execution_count": 81,
   "metadata": {
    "pycharm": {
     "is_executing": false
    }
   },
   "outputs": [
    {
     "data": {
      "text/html": [
       "<div>\n",
       "<style scoped>\n",
       "    .dataframe tbody tr th:only-of-type {\n",
       "        vertical-align: middle;\n",
       "    }\n",
       "\n",
       "    .dataframe tbody tr th {\n",
       "        vertical-align: top;\n",
       "    }\n",
       "\n",
       "    .dataframe thead th {\n",
       "        text-align: right;\n",
       "    }\n",
       "</style>\n",
       "<table border=\"1\" class=\"dataframe\">\n",
       "  <thead>\n",
       "    <tr style=\"text-align: right;\">\n",
       "      <th></th>\n",
       "      <th>Vente</th>\n",
       "      <th>Client</th>\n",
       "      <th>Magasin</th>\n",
       "      <th>Prix</th>\n",
       "      <th>Quantité</th>\n",
       "      <th>Produit</th>\n",
       "    </tr>\n",
       "  </thead>\n",
       "  <tbody>\n",
       "    <tr>\n",
       "      <th>Vente</th>\n",
       "      <td>1.000000</td>\n",
       "      <td>-0.031717</td>\n",
       "      <td>0.231712</td>\n",
       "      <td>-0.066798</td>\n",
       "      <td>0.038058</td>\n",
       "      <td>-0.007424</td>\n",
       "    </tr>\n",
       "    <tr>\n",
       "      <th>Client</th>\n",
       "      <td>-0.031717</td>\n",
       "      <td>1.000000</td>\n",
       "      <td>-0.073631</td>\n",
       "      <td>0.001850</td>\n",
       "      <td>-0.021804</td>\n",
       "      <td>0.776297</td>\n",
       "    </tr>\n",
       "    <tr>\n",
       "      <th>Magasin</th>\n",
       "      <td>0.231712</td>\n",
       "      <td>-0.073631</td>\n",
       "      <td>1.000000</td>\n",
       "      <td>0.015933</td>\n",
       "      <td>0.034962</td>\n",
       "      <td>-0.055858</td>\n",
       "    </tr>\n",
       "    <tr>\n",
       "      <th>Prix</th>\n",
       "      <td>-0.066798</td>\n",
       "      <td>0.001850</td>\n",
       "      <td>0.015933</td>\n",
       "      <td>1.000000</td>\n",
       "      <td>-0.060652</td>\n",
       "      <td>-0.048753</td>\n",
       "    </tr>\n",
       "    <tr>\n",
       "      <th>Quantité</th>\n",
       "      <td>0.038058</td>\n",
       "      <td>-0.021804</td>\n",
       "      <td>0.034962</td>\n",
       "      <td>-0.060652</td>\n",
       "      <td>1.000000</td>\n",
       "      <td>-0.023654</td>\n",
       "    </tr>\n",
       "    <tr>\n",
       "      <th>Produit</th>\n",
       "      <td>-0.007424</td>\n",
       "      <td>0.776297</td>\n",
       "      <td>-0.055858</td>\n",
       "      <td>-0.048753</td>\n",
       "      <td>-0.023654</td>\n",
       "      <td>1.000000</td>\n",
       "    </tr>\n",
       "  </tbody>\n",
       "</table>\n",
       "</div>"
      ],
      "text/plain": [
       "             Vente    Client   Magasin      Prix  Quantité   Produit\n",
       "Vente     1.000000 -0.031717  0.231712 -0.066798  0.038058 -0.007424\n",
       "Client   -0.031717  1.000000 -0.073631  0.001850 -0.021804  0.776297\n",
       "Magasin   0.231712 -0.073631  1.000000  0.015933  0.034962 -0.055858\n",
       "Prix     -0.066798  0.001850  0.015933  1.000000 -0.060652 -0.048753\n",
       "Quantité  0.038058 -0.021804  0.034962 -0.060652  1.000000 -0.023654\n",
       "Produit  -0.007424  0.776297 -0.055858 -0.048753 -0.023654  1.000000"
      ]
     },
     "execution_count": 81,
     "metadata": {},
     "output_type": "execute_result"
    }
   ],
   "source": [
    "#Y a-t-il des redondances entre les features?\n",
    "features.corr()\n",
    "#Non, aucune corrélation. Le coefficient le plus haut est entre le produit et le client, mais n'est pas très important."
   ]
  },
  {
   "cell_type": "code",
   "execution_count": null,
   "metadata": {},
   "outputs": [],
   "source": []
  }
 ],
 "metadata": {
  "kernelspec": {
   "display_name": "Python 3",
   "language": "python",
   "name": "python3"
  },
  "language_info": {
   "codemirror_mode": {
    "name": "ipython",
    "version": 3
   },
   "file_extension": ".py",
   "mimetype": "text/x-python",
   "name": "python",
   "nbconvert_exporter": "python",
   "pygments_lexer": "ipython3",
   "version": "3.8.0"
  },
  "pycharm": {
   "stem_cell": {
    "cell_type": "raw",
    "metadata": {
     "collapsed": false
    },
    "source": []
   }
  }
 },
 "nbformat": 4,
 "nbformat_minor": 1
}
