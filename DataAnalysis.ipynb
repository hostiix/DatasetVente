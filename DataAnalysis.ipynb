{
 "cells": [
  {
   "cell_type": "code",
   "execution_count": 1,
   "metadata": {
    "pycharm": {
     "is_executing": false
    }
   },
   "outputs": [],
   "source": [
    "%matplotlib inline\n",
    "import numpy as np\n",
    "import matplotlib\n",
    "import matplotlib.pyplot as plt\n",
    "import pandas as pd\n",
    "import seaborn as sns\n",
    "\n",
    "from sklearn.preprocessing import LabelBinarizer, StandardScaler"
   ]
  },
  {
   "cell_type": "markdown",
   "metadata": {},
   "source": [
    "# Analyse des données"
   ]
  },
  {
   "cell_type": "code",
   "execution_count": 2,
   "metadata": {
    "pycharm": {
     "is_executing": false
    }
   },
   "outputs": [],
   "source": [
    "#open('Donnees_Ventes_2015.csv','r').readlines()[:5]"
   ]
  },
  {
   "cell_type": "code",
   "execution_count": 3,
   "metadata": {
    "pycharm": {
     "is_executing": false
    }
   },
   "outputs": [],
   "source": [
    "#ventes2015 = pd.read_csv('Donnees_Ventes_2015.csv', sep=';', names = ['Vente', 'Date', 'Client', 'Magasin', 'Prix', 'Quantité', 'Produit'], encoding=\"ISO-8859-1\")"
   ]
  },
  {
   "cell_type": "code",
   "execution_count": 4,
   "metadata": {
    "pycharm": {
     "is_executing": false
    }
   },
   "outputs": [
    {
     "data": {
      "text/plain": "['id_vente;date_vente;id_client;categorie_client;id_magasin;prix_vente_unitaire;quantité;id_produit;categorie_produit\\n',\n '1;2/1/2015;2816;High-tech;23;8.21;3;7860;High-tech\\n',\n '2;2/1/2015;51682;Mode;214;25.71;7;62026;Mode\\n',\n '2;2/1/2015;51682;Mode;214;31.03;10;61363;Mode\\n',\n '2;2/1/2015;51682;Mode;214;7.96;8;56253;Mode\\n']"
     },
     "metadata": {},
     "output_type": "execute_result",
     "execution_count": 4
    }
   ],
   "source": [
    "open('FichierMock_modif4.csv','r').readlines()[:5]"
   ]
  },
  {
   "cell_type": "code",
   "execution_count": 8,
   "outputs": [
    {
     "name": "stderr",
     "text": [
      "c:\\users\\u21510116\\pycharmprojects\\datasetvente\\venv38\\lib\\site-packages\\IPython\\core\\interactiveshell.py:3062: DtypeWarning: Columns (0,2,4,5,6,7) have mixed types.Specify dtype option on import or set low_memory=False.\n  has_raised = await self.run_ast_nodes(code_ast.body, cell_name,\n"
     ],
     "output_type": "stream"
    }
   ],
   "source": [
    "ventes2015sousensemble = pd.read_csv('FichierMock_modif4.csv', sep=';',  dtype={\"id_vente\": int, \"date_vente\": object, \"id_client\": int, \"categorie_client\": object, \"id_magasin\": int, \"prix_vente_unitaire\": float, \"quantité\": int, \"id_produit\": int, \"categorie_produit\": object}, names = ['Vente', 'Date', 'Client', 'Profil', 'Magasin', 'Prix', 'Quantité', 'Produit', 'Catégorie de produit'], encoding=\"ISO-8859-1\", header=None)\n"
   ],
   "metadata": {
    "collapsed": false,
    "pycharm": {
     "name": "#%%\n",
     "is_executing": false
    }
   }
  },
  {
   "cell_type": "code",
   "execution_count": null,
   "metadata": {
    "pycharm": {
     "is_executing": false,
     "name": "#%%\n"
    }
   },
   "outputs": [],
   "source": [
    "ventes2015sousensemble.decribe()\n"
   ]
  }
 ],
 "metadata": {
  "kernelspec": {
   "display_name": "Python 3",
   "language": "python",
   "name": "python3"
  },
  "language_info": {
   "codemirror_mode": {
    "name": "ipython",
    "version": 3
   },
   "file_extension": ".py",
   "mimetype": "text/x-python",
   "name": "python",
   "nbconvert_exporter": "python",
   "pygments_lexer": "ipython3",
   "version": "3.8.0"
  },
  "pycharm": {
   "stem_cell": {
    "cell_type": "raw",
    "source": [],
    "metadata": {
     "collapsed": false
    }
   }
  }
 },
 "nbformat": 4,
 "nbformat_minor": 1
}